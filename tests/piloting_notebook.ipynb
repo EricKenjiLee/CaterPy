{
 "cells": [
  {
   "cell_type": "code",
   "execution_count": null,
   "metadata": {},
   "outputs": [],
   "source": [
    "%matplotlib inline\n",
    "\n",
    "from caterpy.core import *\n",
    "import matplotlib.pyplot as plt"
   ]
  }
 ],
 "metadata": {},
 "nbformat": 4,
 "nbformat_minor": 0
}
